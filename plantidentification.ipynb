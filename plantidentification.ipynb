{
 "cells": [
  {
   "cell_type": "markdown",
   "id": "b4b1f8e1-dac2-4378-9dfa-cd8ea5dbf8c0",
   "metadata": {},
   "source": [
    "**Importing Libraries** "
   ]
  },
  {
   "cell_type": "code",
   "execution_count": null,
   "id": "75728850-7d09-4e3e-91ea-f4edbd666320",
   "metadata": {},
   "outputs": [],
   "source": [
    "import tensorflow as tf \n",
    "import matplotlib.pyplot as plt \n",
    "import pandas as pd \n",
    "import seaborn as sns "
   ]
  },
  {
   "cell_type": "markdown",
   "id": "7f0901fe-ab5b-4ce1-8c91-04001b3dca41",
   "metadata": {},
   "source": [
    "**Data preprocessing** \n",
    "\n",
    "Training Image Preprocessing "
   ]
  },
  {
   "cell_type": "code",
   "execution_count": null,
   "id": "06c7853f-e40a-42c2-8276-6e447e86b013",
   "metadata": {},
   "outputs": [],
   "source": [
    "training_set = tf.keras.utils.image_dataset_from_directory(\n",
    "    'train',\n",
    "    labels=\"inferred\",\n",
    "    label_mode=\"categorical\",\n",
    "    class_names=None,\n",
    "    color_mode=\"rgb\",\n",
    "    batch_size=32,\n",
    "    image_size=(128, 128),\n",
    "    shuffle=True,\n",
    "    seed=None,\n",
    "    validation_split=None,\n",
    "    subset=None,\n",
    "    interpolation=\"bilinear\",\n",
    "    follow_links=False,\n",
    "    crop_to_aspect_ratio=False,\n",
    ")"
   ]
  },
  {
   "cell_type": "code",
   "execution_count": null,
   "id": "d464108b-24b8-4c54-8823-5ec26da9e1cd",
   "metadata": {},
   "outputs": [],
   "source": [
    "validation_set = tf.keras.utils.image_dataset_from_directory(\n",
    "    'valid',\n",
    "    labels=\"inferred\",\n",
    "    label_mode=\"categorical\",\n",
    "    class_names=None,\n",
    "    color_mode=\"rgb\",\n",
    "    batch_size=32,\n",
    "    image_size=(128, 128),\n",
    "    shuffle=True,\n",
    "    seed=None,\n",
    "    validation_split=None,\n",
    "    subset=None,\n",
    "    interpolation=\"bilinear\",\n",
    "    follow_links=False,\n",
    "    crop_to_aspect_ratio=False,\n",
    ")"
   ]
  },
  {
   "cell_type": "code",
   "execution_count": null,
   "id": "21d8ed5e-e9b3-41dd-9209-2d9be34c7648",
   "metadata": {},
   "outputs": [],
   "source": [
    "training_set "
   ]
  },
  {
   "cell_type": "code",
   "execution_count": null,
   "id": "de31d909-d11f-4df6-b0b6-82eab00e05a0",
   "metadata": {
    "scrolled": true
   },
   "outputs": [],
   "source": [
    "for x,y in training_set:\n",
    "    print(x,x.shape)\n",
    "    print(y,y.shape)\n",
    "    break "
   ]
  },
  {
   "cell_type": "markdown",
   "id": "a93cc87a-ecde-4396-9b61-a6c6afce497b",
   "metadata": {},
   "source": [
    "**Building Model**"
   ]
  },
  {
   "cell_type": "code",
   "execution_count": null,
   "id": "921d4d14-576d-4aec-8cb9-82650ce58b05",
   "metadata": {},
   "outputs": [],
   "source": [
    "from tensorflow.keras.layers import Dense,Conv2D,MaxPool2D,Flatten,Dropout\n",
    "from tensorflow.keras.models import Sequential "
   ]
  },
  {
   "cell_type": "code",
   "execution_count": null,
   "id": "f1f1748b-d01f-45c2-83cf-3e11339c501f",
   "metadata": {},
   "outputs": [],
   "source": [
    "model = Sequential()"
   ]
  },
  {
   "cell_type": "markdown",
   "id": "52cd5785-387b-4006-b371-7f7e9d2e165a",
   "metadata": {},
   "source": [
    "**Building Convolution Layer**"
   ]
  },
  {
   "cell_type": "code",
   "execution_count": null,
   "id": "ac717780-819a-4dd5-9065-9aca5faa6ee4",
   "metadata": {},
   "outputs": [],
   "source": [
    "model.add(Conv2D(filters=32,kernel_size=3,padding='same',activation='relu',input_shape=[128,128,3]))\n",
    "model.add(Conv2D(filters=32,kernel_size=3,activation='relu'))\n",
    "model.add(MaxPool2D(pool_size=2,strides=2))"
   ]
  },
  {
   "cell_type": "code",
   "execution_count": null,
   "id": "553ab746-bc2a-4f68-a837-3d49a322e233",
   "metadata": {},
   "outputs": [],
   "source": [
    "model.add(Conv2D(filters=64,kernel_size=3,padding='same',activation='relu'))\n",
    "model.add(Conv2D(filters=64,kernel_size=3,activation='relu'))\n",
    "model.add(MaxPool2D(pool_size=2,strides=2))"
   ]
  },
  {
   "cell_type": "code",
   "execution_count": null,
   "id": "9d9ce7a1-982f-413b-9f49-3370ca458ed5",
   "metadata": {},
   "outputs": [],
   "source": [
    "model.add(Conv2D(filters=128,kernel_size=3,padding='same',activation='relu'))\n",
    "model.add(Conv2D(filters=128,kernel_size=3,activation='relu'))\n",
    "model.add(MaxPool2D(pool_size=2,strides=2))"
   ]
  },
  {
   "cell_type": "code",
   "execution_count": null,
   "id": "9aca06d6-faed-49f0-b7fb-89daa1b4bf27",
   "metadata": {},
   "outputs": [],
   "source": [
    "model.add(Conv2D(filters=256,kernel_size=3,padding='same',activation='relu'))\n",
    "model.add(Conv2D(filters=256,kernel_size=3,activation='relu'))\n",
    "model.add(MaxPool2D(pool_size=2,strides=2))"
   ]
  },
  {
   "cell_type": "code",
   "execution_count": null,
   "id": "829d37e9-dae6-45e7-9559-8eb423bfcde0",
   "metadata": {},
   "outputs": [],
   "source": [
    "model.add(Conv2D(filters=512,kernel_size=3,padding='same',activation='relu'))\n",
    "model.add(Conv2D(filters=512,kernel_size=3,activation='relu'))\n",
    "model.add(MaxPool2D(pool_size=2,strides=2))"
   ]
  },
  {
   "cell_type": "code",
   "execution_count": null,
   "id": "489854c3-1189-4b13-a9dd-28ff3aa43762",
   "metadata": {},
   "outputs": [],
   "source": [
    "model.add(Dropout(0.25)) #to avoid overfitting "
   ]
  },
  {
   "cell_type": "code",
   "execution_count": null,
   "id": "895c15a0-331e-4519-837b-e883dc5f1608",
   "metadata": {},
   "outputs": [],
   "source": [
    "model.add(Flatten()) "
   ]
  },
  {
   "cell_type": "code",
   "execution_count": null,
   "id": "2a3d4b7e-a511-4efe-956c-23c8b182b59f",
   "metadata": {},
   "outputs": [],
   "source": [
    "model.add(Dense(units=1500,activation='relu'))"
   ]
  },
  {
   "cell_type": "code",
   "execution_count": null,
   "id": "aa6f63dc-6363-43bd-8fb3-959c72674b9c",
   "metadata": {},
   "outputs": [],
   "source": [
    "model.add(Dropout(0.4))"
   ]
  },
  {
   "cell_type": "code",
   "execution_count": null,
   "id": "cc61f1be-c14e-4bb1-92d3-2b744e2c8dc0",
   "metadata": {},
   "outputs": [],
   "source": [
    "model.add(Dense(units=80,activation='softmax'))"
   ]
  },
  {
   "cell_type": "markdown",
   "id": "b1e2c0c6-50fb-4340-ba6d-160e07d54faa",
   "metadata": {},
   "source": [
    "**Compiling the Model**"
   ]
  },
  {
   "cell_type": "code",
   "execution_count": null,
   "id": "8eb4c471-90ef-423b-ac44-6c8f0d879143",
   "metadata": {},
   "outputs": [],
   "source": [
    "model.compile(optimizer=tf.keras.optimizers.Adam(\n",
    "    learning_rate=0.0001),loss='categorical_crossentropy',metrics=['accuracy'])"
   ]
  },
  {
   "cell_type": "code",
   "execution_count": null,
   "id": "dcee5bbe-cda7-4dee-9a27-05a6a589e7ef",
   "metadata": {},
   "outputs": [],
   "source": [
    "model.summary()"
   ]
  },
  {
   "cell_type": "markdown",
   "id": "95c7f244-fb57-4c14-844c-554651a1a518",
   "metadata": {},
   "source": [
    "**Model Training**"
   ]
  },
  {
   "cell_type": "code",
   "execution_count": null,
   "id": "dfa096e6-d92a-4229-959f-e676fbbfe939",
   "metadata": {},
   "outputs": [],
   "source": [
    "training_history = model.fit(x=training_set,validation_data=validation_set,epochs=10)"
   ]
  },
  {
   "cell_type": "markdown",
   "id": "b2f8c75c-392b-46f2-8026-7c226cd255bd",
   "metadata": {},
   "source": [
    "**Model Evaluation**"
   ]
  },
  {
   "cell_type": "code",
   "execution_count": null,
   "id": "ae495d0b-41e1-4636-bf1a-54099470da85",
   "metadata": {},
   "outputs": [],
   "source": [
    "#model evaluation on training set \n",
    "train_loss,train_acc = model.evaluate(training_set)"
   ]
  },
  {
   "cell_type": "code",
   "execution_count": null,
   "id": "6b45eec1-d307-48e8-ae19-485552190b3f",
   "metadata": {},
   "outputs": [],
   "source": [
    "print(train_loss,train_acc)"
   ]
  },
  {
   "cell_type": "code",
   "execution_count": null,
   "id": "8bf64a5f-4442-43c5-b237-c905735a0e92",
   "metadata": {},
   "outputs": [],
   "source": [
    "#model evaluation on validation set \n",
    "val_loss,val_acc = model.evaluate(validation_set)"
   ]
  },
  {
   "cell_type": "code",
   "execution_count": null,
   "id": "e42a9cf0-e2fe-45bb-bb53-43a32fc0bf28",
   "metadata": {},
   "outputs": [],
   "source": [
    "print(val_loss,val_acc)"
   ]
  },
  {
   "cell_type": "markdown",
   "id": "86abba0f-7db7-460b-8b0e-881867627d39",
   "metadata": {},
   "source": [
    "**Saving the model**\n"
   ]
  },
  {
   "cell_type": "code",
   "execution_count": null,
   "id": "36fd48e7-517c-48ac-b0c9-1a89b775d102",
   "metadata": {},
   "outputs": [],
   "source": [
    "model.save(\"trained_model.keras\")"
   ]
  },
  {
   "cell_type": "code",
   "execution_count": null,
   "id": "82399295-c176-4129-a64e-36d89e69d2cc",
   "metadata": {},
   "outputs": [],
   "source": [
    "training_history.history"
   ]
  },
  {
   "cell_type": "code",
   "execution_count": null,
   "id": "51acc72b-69eb-4dc7-ae66-4d9fbfaa6a9f",
   "metadata": {},
   "outputs": [],
   "source": [
    "#Recording history in json \n",
    "import json \n",
    "with open(\"training_hist.json\",\"w\") as f:\n",
    "    json.dump(training_history.history,f)"
   ]
  },
  {
   "cell_type": "markdown",
   "id": "323c1ffd-e966-4ed8-828f-f75de413ea68",
   "metadata": {},
   "source": [
    "**Accuracy Visulization**"
   ]
  },
  {
   "cell_type": "code",
   "execution_count": null,
   "id": "085aead9-c5c3-4390-8f95-8a83a482873a",
   "metadata": {},
   "outputs": [],
   "source": [
    "training_history.history['accuracy']"
   ]
  },
  {
   "cell_type": "code",
   "execution_count": null,
   "id": "ebb18788-5387-427f-a6ff-fb79767db05b",
   "metadata": {},
   "outputs": [],
   "source": [
    "training_history.history['val_accuracy']"
   ]
  },
  {
   "cell_type": "code",
   "execution_count": null,
   "id": "c4eb6105-5c5b-482a-9ec2-d920e7b6b3c5",
   "metadata": {},
   "outputs": [],
   "source": [
    "epochs = [i for i in range(1,11)]\n",
    "epochs\n",
    "plt.plot(epochs,training_history.history['accuracy'],color='red',label='Training Accuracy')\n",
    "plt.plot(epochs,training_history.history['val_accuracy'],color='blue',label='Validation Accuracy')\n",
    "plt.xlabel(\"No of epochs\")\n",
    "plt.ylabel(\"Accuracy result\")\n",
    "plt.title(\"Visualization of Accuracy Result\")\n",
    "plt.show()"
   ]
  },
  {
   "cell_type": "markdown",
   "id": "62b7f4bc-a5ea-46de-83cb-a773cc12f628",
   "metadata": {},
   "source": [
    "**Some other metrics**"
   ]
  },
  {
   "cell_type": "code",
   "execution_count": null,
   "id": "32e2f936-af71-451d-ab01-ca9031b800f9",
   "metadata": {},
   "outputs": [],
   "source": [
    "class_name = validation_set.class_names\n",
    "class_name"
   ]
  },
  {
   "cell_type": "code",
   "execution_count": null,
   "id": "b2d77549-f4ef-44a0-890d-96494cf580e2",
   "metadata": {},
   "outputs": [],
   "source": [
    "test_set = tf.keras.utils.image_dataset_from_directory(\n",
    "    'valid',\n",
    "    labels=\"inferred\",\n",
    "    label_mode=\"categorical\",\n",
    "    class_names=None,\n",
    "    color_mode=\"rgb\",\n",
    "    batch_size=32,\n",
    "    image_size=(128, 128),\n",
    "    shuffle=False,\n",
    "    seed=None,\n",
    "    validation_split=None,\n",
    "    subset=None,\n",
    "    interpolation=\"bilinear\",\n",
    "    follow_links=False,\n",
    "    crop_to_aspect_ratio=False,\n",
    ")"
   ]
  },
  {
   "cell_type": "code",
   "execution_count": null,
   "id": "cc9e42f4-4e1e-4840-a7fd-f8befe2c416e",
   "metadata": {},
   "outputs": [],
   "source": [
    "y_pred = model.predict(test_set)\n",
    "y_pred,y_pred.shape"
   ]
  },
  {
   "cell_type": "code",
   "execution_count": null,
   "id": "214af871-d3d6-461b-b340-19a167e535bc",
   "metadata": {},
   "outputs": [],
   "source": [
    "predicted_categories = tf.argmax(y_pred,axis=1)"
   ]
  },
  {
   "cell_type": "code",
   "execution_count": null,
   "id": "ffffe182-c3c0-441d-9654-16f146e2e2a8",
   "metadata": {},
   "outputs": [],
   "source": [
    "predicted_categories"
   ]
  },
  {
   "cell_type": "code",
   "execution_count": null,
   "id": "8f80c2a4-d898-42d2-b6c1-24397b59bb62",
   "metadata": {},
   "outputs": [],
   "source": [
    "true_categories = tf.concat([y for x,y in test_set],axis=0)\n",
    "true_categories"
   ]
  },
  {
   "cell_type": "code",
   "execution_count": null,
   "id": "a369d646-60c3-412f-8808-2f6c1a98212b",
   "metadata": {},
   "outputs": [],
   "source": [
    "Y_true = tf.argmax(true_categories,axis=1)\n",
    "Y_true"
   ]
  },
  {
   "cell_type": "code",
   "execution_count": null,
   "id": "efc42724-81fd-42af-9c1e-b3b1611a666a",
   "metadata": {},
   "outputs": [],
   "source": [
    "from sklearn.metrics import classification_report "
   ]
  },
  {
   "cell_type": "code",
   "execution_count": null,
   "id": "0dd88b2d-94c3-4c58-a4f7-eb640be3aced",
   "metadata": {},
   "outputs": [],
   "source": [
    "print(classification_report(Y_true,predicted_categories,target_names = class_name))"
   ]
  },
  {
   "cell_type": "code",
   "execution_count": null,
   "id": "2fd1977e-fbab-4f4b-9153-5d052cb94545",
   "metadata": {},
   "outputs": [],
   "source": [
    "from sklearn.metrics import confusion_matrix\n",
    "cm = confusion_matrix(Y_true,predicted_categories)\n",
    "cm.shape"
   ]
  },
  {
   "cell_type": "markdown",
   "id": "c719eb66-c635-4f2b-a103-454befc8e2f3",
   "metadata": {},
   "source": [
    "**Confusion matrix Visualization**"
   ]
  },
  {
   "cell_type": "code",
   "execution_count": null,
   "id": "4e63e002-ff23-4040-a609-5c0304e3f856",
   "metadata": {},
   "outputs": [],
   "source": [
    "plt.figure(figsize=(40,40))\n",
    "sns.heatmap(cm,annot=True,annot_kws={'size':16})\n",
    "plt.xlabel('Predicted class',fontsize=30)\n",
    "plt.ylabel('Actual Class',fontsize=30)\n",
    "plt.title('Confusion Matrix',fontsize=34)\n",
    "plt.show()"
   ]
  },
  {
   "cell_type": "code",
   "execution_count": null,
   "id": "c58596de-eb56-4be7-9c7b-dd361319700b",
   "metadata": {},
   "outputs": [],
   "source": []
  },
  {
   "cell_type": "code",
   "execution_count": null,
   "id": "4760cc35-9dfe-4e58-84ae-f8594c866acc",
   "metadata": {},
   "outputs": [],
   "source": []
  },
  {
   "cell_type": "code",
   "execution_count": null,
   "id": "22bd1a85-f3ef-404b-81cf-0f37635abd81",
   "metadata": {},
   "outputs": [],
   "source": []
  },
  {
   "cell_type": "code",
   "execution_count": null,
   "id": "4b647f04-836e-435d-afbd-626a5bfe7a06",
   "metadata": {},
   "outputs": [],
   "source": []
  }
 ],
 "metadata": {
  "kernelspec": {
   "display_name": "Python 3 (ipykernel)",
   "language": "python",
   "name": "python3"
  },
  "language_info": {
   "codemirror_mode": {
    "name": "ipython",
    "version": 3
   },
   "file_extension": ".py",
   "mimetype": "text/x-python",
   "name": "python",
   "nbconvert_exporter": "python",
   "pygments_lexer": "ipython3",
   "version": "3.10.0"
  }
 },
 "nbformat": 4,
 "nbformat_minor": 5
}
